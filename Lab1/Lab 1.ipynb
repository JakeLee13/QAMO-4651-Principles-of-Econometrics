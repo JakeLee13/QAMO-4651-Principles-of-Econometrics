{
 "cells": [
  {
   "cell_type": "markdown",
   "id": "b302c95f",
   "metadata": {},
   "source": [
    "# Lab 1: Unbiasedness and Consistency of the Sample Mean\n",
    "### Jake Lee\n",
    "---"
   ]
  },
  {
   "cell_type": "markdown",
   "id": "4e4b64fa",
   "metadata": {},
   "source": [
    "## Background Information: United States Postal Service Employee Productivity\n",
    "The United States Postal Service is an independent establishment of the executive branch of the federal government, providing constitutionally-guaranteed mail service to more than 150 million addresses in the United States. It employs more than 400,000 workers across more than 30,000 retail offices, warehouses, and mail sorting facilities. The Postal Service processed and delivered more than 400 million pieces of mail per day in 2020. The Postal Service strives to manage its operations in a data-driven way, but given the size and scope\n",
    "of its operations, it is impractical to monitor productivity for its entire workforce at all\n",
    "times. Instead, the Postal Service employees a random-sample procedure in order to gather\n",
    "information about employee productivity in a cost-effective way.\n",
    "\n",
    "In this lab, we evaluate the properties of the sample mean of a random-sample of\n",
    "data as an unbiased and consistent estimator of the population mean of a random variable,\n",
    "employee productivity. Employee productivity is measured by the number of pieces of mail\n",
    "processed per hour. The dataset USPSproductivity.dta, which can be found on Canvas,\n",
    "contains simulated data with the following variables:\n",
    "- `id`: employee id\n",
    "- `prod`: employee productivity, measured as number of mail pieces processed per hour.\n",
    "- `position`: employee position, either letter carrier or retail service."
   ]
  },
  {
   "cell_type": "markdown",
   "id": "715b6c23",
   "metadata": {},
   "source": [
    "## Imports and Data"
   ]
  },
  {
   "cell_type": "code",
   "execution_count": 1,
   "id": "546908c9",
   "metadata": {},
   "outputs": [],
   "source": [
    "import numpy as np\n",
    "import pandas as pd\n",
    "import matplotlib.pyplot as plt\n",
    "from scipy import stats\n",
    "%matplotlib inline"
   ]
  },
  {
   "cell_type": "code",
   "execution_count": 2,
   "id": "5f4bd434",
   "metadata": {
    "scrolled": true
   },
   "outputs": [
    {
     "data": {
      "text/html": [
       "<div>\n",
       "<style scoped>\n",
       "    .dataframe tbody tr th:only-of-type {\n",
       "        vertical-align: middle;\n",
       "    }\n",
       "\n",
       "    .dataframe tbody tr th {\n",
       "        vertical-align: top;\n",
       "    }\n",
       "\n",
       "    .dataframe thead th {\n",
       "        text-align: right;\n",
       "    }\n",
       "</style>\n",
       "<table border=\"1\" class=\"dataframe\">\n",
       "  <thead>\n",
       "    <tr style=\"text-align: right;\">\n",
       "      <th></th>\n",
       "      <th>id</th>\n",
       "      <th>prod</th>\n",
       "      <th>position</th>\n",
       "      <th>random1_10</th>\n",
       "      <th>random2_10</th>\n",
       "      <th>random3_10</th>\n",
       "      <th>random4_10</th>\n",
       "      <th>random5_10</th>\n",
       "      <th>random6_10</th>\n",
       "      <th>random7_10</th>\n",
       "      <th>...</th>\n",
       "      <th>random41_10000</th>\n",
       "      <th>random42_10000</th>\n",
       "      <th>random43_10000</th>\n",
       "      <th>random44_10000</th>\n",
       "      <th>random45_10000</th>\n",
       "      <th>random46_10000</th>\n",
       "      <th>random47_10000</th>\n",
       "      <th>random48_10000</th>\n",
       "      <th>random49_10000</th>\n",
       "      <th>random50_10000</th>\n",
       "    </tr>\n",
       "  </thead>\n",
       "  <tbody>\n",
       "    <tr>\n",
       "      <th>0</th>\n",
       "      <td>1391259.0</td>\n",
       "      <td>323.151550</td>\n",
       "      <td>Retail Sales</td>\n",
       "      <td>0.0</td>\n",
       "      <td>0.0</td>\n",
       "      <td>0.0</td>\n",
       "      <td>0.0</td>\n",
       "      <td>0.0</td>\n",
       "      <td>0.0</td>\n",
       "      <td>0.0</td>\n",
       "      <td>...</td>\n",
       "      <td>0.0</td>\n",
       "      <td>0.0</td>\n",
       "      <td>0.0</td>\n",
       "      <td>0.0</td>\n",
       "      <td>0.0</td>\n",
       "      <td>0.0</td>\n",
       "      <td>0.0</td>\n",
       "      <td>0.0</td>\n",
       "      <td>0.0</td>\n",
       "      <td>1.0</td>\n",
       "    </tr>\n",
       "    <tr>\n",
       "      <th>1</th>\n",
       "      <td>1116093.0</td>\n",
       "      <td>473.728699</td>\n",
       "      <td>Letter Carrier</td>\n",
       "      <td>0.0</td>\n",
       "      <td>0.0</td>\n",
       "      <td>0.0</td>\n",
       "      <td>0.0</td>\n",
       "      <td>0.0</td>\n",
       "      <td>0.0</td>\n",
       "      <td>0.0</td>\n",
       "      <td>...</td>\n",
       "      <td>0.0</td>\n",
       "      <td>0.0</td>\n",
       "      <td>0.0</td>\n",
       "      <td>0.0</td>\n",
       "      <td>0.0</td>\n",
       "      <td>0.0</td>\n",
       "      <td>0.0</td>\n",
       "      <td>0.0</td>\n",
       "      <td>0.0</td>\n",
       "      <td>1.0</td>\n",
       "    </tr>\n",
       "    <tr>\n",
       "      <th>2</th>\n",
       "      <td>1343329.0</td>\n",
       "      <td>289.387115</td>\n",
       "      <td>Retail Sales</td>\n",
       "      <td>0.0</td>\n",
       "      <td>0.0</td>\n",
       "      <td>0.0</td>\n",
       "      <td>0.0</td>\n",
       "      <td>0.0</td>\n",
       "      <td>0.0</td>\n",
       "      <td>0.0</td>\n",
       "      <td>...</td>\n",
       "      <td>0.0</td>\n",
       "      <td>0.0</td>\n",
       "      <td>0.0</td>\n",
       "      <td>0.0</td>\n",
       "      <td>1.0</td>\n",
       "      <td>0.0</td>\n",
       "      <td>0.0</td>\n",
       "      <td>0.0</td>\n",
       "      <td>0.0</td>\n",
       "      <td>1.0</td>\n",
       "    </tr>\n",
       "    <tr>\n",
       "      <th>3</th>\n",
       "      <td>1490441.0</td>\n",
       "      <td>319.700470</td>\n",
       "      <td>Retail Sales</td>\n",
       "      <td>0.0</td>\n",
       "      <td>0.0</td>\n",
       "      <td>0.0</td>\n",
       "      <td>0.0</td>\n",
       "      <td>0.0</td>\n",
       "      <td>0.0</td>\n",
       "      <td>0.0</td>\n",
       "      <td>...</td>\n",
       "      <td>0.0</td>\n",
       "      <td>0.0</td>\n",
       "      <td>0.0</td>\n",
       "      <td>0.0</td>\n",
       "      <td>0.0</td>\n",
       "      <td>0.0</td>\n",
       "      <td>0.0</td>\n",
       "      <td>0.0</td>\n",
       "      <td>0.0</td>\n",
       "      <td>1.0</td>\n",
       "    </tr>\n",
       "    <tr>\n",
       "      <th>4</th>\n",
       "      <td>1192130.0</td>\n",
       "      <td>374.338928</td>\n",
       "      <td>Letter Carrier</td>\n",
       "      <td>0.0</td>\n",
       "      <td>0.0</td>\n",
       "      <td>0.0</td>\n",
       "      <td>0.0</td>\n",
       "      <td>0.0</td>\n",
       "      <td>0.0</td>\n",
       "      <td>0.0</td>\n",
       "      <td>...</td>\n",
       "      <td>0.0</td>\n",
       "      <td>0.0</td>\n",
       "      <td>0.0</td>\n",
       "      <td>0.0</td>\n",
       "      <td>0.0</td>\n",
       "      <td>0.0</td>\n",
       "      <td>0.0</td>\n",
       "      <td>0.0</td>\n",
       "      <td>0.0</td>\n",
       "      <td>1.0</td>\n",
       "    </tr>\n",
       "  </tbody>\n",
       "</table>\n",
       "<p>5 rows × 303 columns</p>\n",
       "</div>"
      ],
      "text/plain": [
       "          id        prod        position  random1_10  random2_10  random3_10  \\\n",
       "0  1391259.0  323.151550    Retail Sales         0.0         0.0         0.0   \n",
       "1  1116093.0  473.728699  Letter Carrier         0.0         0.0         0.0   \n",
       "2  1343329.0  289.387115    Retail Sales         0.0         0.0         0.0   \n",
       "3  1490441.0  319.700470    Retail Sales         0.0         0.0         0.0   \n",
       "4  1192130.0  374.338928  Letter Carrier         0.0         0.0         0.0   \n",
       "\n",
       "   random4_10  random5_10  random6_10  random7_10  ...  random41_10000  \\\n",
       "0         0.0         0.0         0.0         0.0  ...             0.0   \n",
       "1         0.0         0.0         0.0         0.0  ...             0.0   \n",
       "2         0.0         0.0         0.0         0.0  ...             0.0   \n",
       "3         0.0         0.0         0.0         0.0  ...             0.0   \n",
       "4         0.0         0.0         0.0         0.0  ...             0.0   \n",
       "\n",
       "   random42_10000  random43_10000  random44_10000  random45_10000  \\\n",
       "0             0.0             0.0             0.0             0.0   \n",
       "1             0.0             0.0             0.0             0.0   \n",
       "2             0.0             0.0             0.0             1.0   \n",
       "3             0.0             0.0             0.0             0.0   \n",
       "4             0.0             0.0             0.0             0.0   \n",
       "\n",
       "   random46_10000  random47_10000  random48_10000  random49_10000  \\\n",
       "0             0.0             0.0             0.0             0.0   \n",
       "1             0.0             0.0             0.0             0.0   \n",
       "2             0.0             0.0             0.0             0.0   \n",
       "3             0.0             0.0             0.0             0.0   \n",
       "4             0.0             0.0             0.0             0.0   \n",
       "\n",
       "   random50_10000  \n",
       "0             1.0  \n",
       "1             1.0  \n",
       "2             1.0  \n",
       "3             1.0  \n",
       "4             1.0  \n",
       "\n",
       "[5 rows x 303 columns]"
      ]
     },
     "execution_count": 2,
     "metadata": {},
     "output_type": "execute_result"
    }
   ],
   "source": [
    "data = 'USPSproductivity.dta'\n",
    "df = pd.read_stata(data)\n",
    "df.head()"
   ]
  },
  {
   "cell_type": "markdown",
   "id": "18dfe4b9",
   "metadata": {},
   "source": [
    "# Preclass Work\n",
    "---"
   ]
  },
  {
   "cell_type": "markdown",
   "id": "41fc35ea",
   "metadata": {},
   "source": [
    "## 5. "
   ]
  },
  {
   "cell_type": "code",
   "execution_count": 3,
   "id": "20b47519",
   "metadata": {},
   "outputs": [
    {
     "data": {
      "text/plain": [
       "(495941, 303)"
      ]
     },
     "execution_count": 3,
     "metadata": {},
     "output_type": "execute_result"
    }
   ],
   "source": [
    "# num observations, num columns\n",
    "df.shape"
   ]
  },
  {
   "cell_type": "code",
   "execution_count": 4,
   "id": "fb52cbc5",
   "metadata": {},
   "outputs": [
    {
     "data": {
      "text/plain": [
       "dtype('float32')"
      ]
     },
     "execution_count": 4,
     "metadata": {},
     "output_type": "execute_result"
    }
   ],
   "source": [
    "# data type 'prod'\n",
    "df['prod'].dtype"
   ]
  },
  {
   "cell_type": "code",
   "execution_count": 5,
   "id": "47fcef83",
   "metadata": {},
   "outputs": [
    {
     "data": {
      "text/plain": [
       "CategoricalDtype(categories=['Retail Sales', 'Letter Carrier'], ordered=True)"
      ]
     },
     "execution_count": 5,
     "metadata": {},
     "output_type": "execute_result"
    }
   ],
   "source": [
    "# data type 'position'\n",
    "df['position'].dtype"
   ]
  },
  {
   "cell_type": "markdown",
   "id": "837cc495",
   "metadata": {},
   "source": [
    "## 6."
   ]
  },
  {
   "cell_type": "code",
   "execution_count": 6,
   "id": "0e4d5fd1",
   "metadata": {},
   "outputs": [
    {
     "data": {
      "text/plain": [
       "count    495941.000000\n",
       "mean        372.974884\n",
       "std          46.957481\n",
       "min         144.484070\n",
       "25%         341.296112\n",
       "50%         373.053619\n",
       "75%         404.667969\n",
       "max         608.722046\n",
       "Name: prod, dtype: float64"
      ]
     },
     "execution_count": 6,
     "metadata": {},
     "output_type": "execute_result"
    }
   ],
   "source": [
    "# mean 'prod'\n",
    "df['prod'].describe()"
   ]
  },
  {
   "cell_type": "code",
   "execution_count": 7,
   "id": "302d88e8",
   "metadata": {
    "scrolled": true
   },
   "outputs": [
    {
     "data": {
      "image/png": "[encoded data removed]",
      "text/plain": [
       "<Figure size 640x480 with 1 Axes>"
      ]
     },
     "metadata": {},
     "output_type": "display_data"
    }
   ],
   "source": [
    "# histogram\n",
    "plt.hist(df['prod'], bins=25)\n",
    "plt.savefig('productivityHistogram.png')\n",
    "plt.show()"
   ]
  },
  {
   "cell_type": "markdown",
   "id": "68e5cbc4",
   "metadata": {},
   "source": [
    "We notice the `prod` column follows a normal distribution"
   ]
  },
  {
   "cell_type": "markdown",
   "id": "c7def9c9",
   "metadata": {},
   "source": [
    "# In-class Lab Part 1\n",
    "---"
   ]
  },
  {
   "cell_type": "markdown",
   "id": "c155f3df",
   "metadata": {},
   "source": [
    "## 1. \n",
    "Student Group Number: 5"
   ]
  },
  {
   "cell_type": "markdown",
   "id": "8b50f68f",
   "metadata": {},
   "source": [
    "## 3.\n",
    "Keep Random5_10, random5_50 . . . random5_5000"
   ]
  },
  {
   "cell_type": "code",
   "execution_count": 8,
   "id": "d1c25a3b",
   "metadata": {},
   "outputs": [
    {
     "data": {
      "text/html": [
       "<div>\n",
       "<style scoped>\n",
       "    .dataframe tbody tr th:only-of-type {\n",
       "        vertical-align: middle;\n",
       "    }\n",
       "\n",
       "    .dataframe tbody tr th {\n",
       "        vertical-align: top;\n",
       "    }\n",
       "\n",
       "    .dataframe thead th {\n",
       "        text-align: right;\n",
       "    }\n",
       "</style>\n",
       "<table border=\"1\" class=\"dataframe\">\n",
       "  <thead>\n",
       "    <tr style=\"text-align: right;\">\n",
       "      <th></th>\n",
       "      <th>id</th>\n",
       "      <th>prod</th>\n",
       "      <th>position</th>\n",
       "      <th>random5_10</th>\n",
       "      <th>random5_50</th>\n",
       "      <th>random5_100</th>\n",
       "      <th>random5_1000</th>\n",
       "      <th>random5_5000</th>\n",
       "    </tr>\n",
       "  </thead>\n",
       "  <tbody>\n",
       "    <tr>\n",
       "      <th>0</th>\n",
       "      <td>1391259.0</td>\n",
       "      <td>323.151550</td>\n",
       "      <td>Retail Sales</td>\n",
       "      <td>0.0</td>\n",
       "      <td>0.0</td>\n",
       "      <td>0.0</td>\n",
       "      <td>0.0</td>\n",
       "      <td>0.0</td>\n",
       "    </tr>\n",
       "    <tr>\n",
       "      <th>1</th>\n",
       "      <td>1116093.0</td>\n",
       "      <td>473.728699</td>\n",
       "      <td>Letter Carrier</td>\n",
       "      <td>0.0</td>\n",
       "      <td>0.0</td>\n",
       "      <td>0.0</td>\n",
       "      <td>0.0</td>\n",
       "      <td>0.0</td>\n",
       "    </tr>\n",
       "    <tr>\n",
       "      <th>2</th>\n",
       "      <td>1343329.0</td>\n",
       "      <td>289.387115</td>\n",
       "      <td>Retail Sales</td>\n",
       "      <td>0.0</td>\n",
       "      <td>0.0</td>\n",
       "      <td>0.0</td>\n",
       "      <td>0.0</td>\n",
       "      <td>0.0</td>\n",
       "    </tr>\n",
       "    <tr>\n",
       "      <th>3</th>\n",
       "      <td>1490441.0</td>\n",
       "      <td>319.700470</td>\n",
       "      <td>Retail Sales</td>\n",
       "      <td>0.0</td>\n",
       "      <td>0.0</td>\n",
       "      <td>0.0</td>\n",
       "      <td>0.0</td>\n",
       "      <td>0.0</td>\n",
       "    </tr>\n",
       "    <tr>\n",
       "      <th>4</th>\n",
       "      <td>1192130.0</td>\n",
       "      <td>374.338928</td>\n",
       "      <td>Letter Carrier</td>\n",
       "      <td>0.0</td>\n",
       "      <td>0.0</td>\n",
       "      <td>0.0</td>\n",
       "      <td>0.0</td>\n",
       "      <td>0.0</td>\n",
       "    </tr>\n",
       "  </tbody>\n",
       "</table>\n",
       "</div>"
      ],
      "text/plain": [
       "          id        prod        position  random5_10  random5_50  random5_100  \\\n",
       "0  1391259.0  323.151550    Retail Sales         0.0         0.0          0.0   \n",
       "1  1116093.0  473.728699  Letter Carrier         0.0         0.0          0.0   \n",
       "2  1343329.0  289.387115    Retail Sales         0.0         0.0          0.0   \n",
       "3  1490441.0  319.700470    Retail Sales         0.0         0.0          0.0   \n",
       "4  1192130.0  374.338928  Letter Carrier         0.0         0.0          0.0   \n",
       "\n",
       "   random5_1000  random5_5000  \n",
       "0           0.0           0.0  \n",
       "1           0.0           0.0  \n",
       "2           0.0           0.0  \n",
       "3           0.0           0.0  \n",
       "4           0.0           0.0  "
      ]
     },
     "execution_count": 8,
     "metadata": {},
     "output_type": "execute_result"
    }
   ],
   "source": [
    "random5_cols = ['id', \n",
    "                'prod', \n",
    "                'position',\n",
    "                'random5_10',\n",
    "                'random5_50',\n",
    "                'random5_100',\n",
    "                'random5_1000',\n",
    "                'random5_5000']\n",
    "\n",
    "rand5 = df[random5_cols]\n",
    "rand5.head()"
   ]
  },
  {
   "cell_type": "markdown",
   "id": "52c2083b",
   "metadata": {},
   "source": [
    "## 4. The USPS cannot easily observe the productivity of all employees within the organization. Instead, the USPS randomly captures the productivity of 10 employees\n",
    "\n",
    "Standard error: $se = \\frac{stddev}{\\sqrt N} $"
   ]
  },
  {
   "cell_type": "code",
   "execution_count": 9,
   "id": "ee2ce32a",
   "metadata": {
    "scrolled": false
   },
   "outputs": [],
   "source": [
    "# locate employees and their production level\n",
    "rand5_10 = rand5.loc[rand5['random5_10'] == 1, 'prod']"
   ]
  },
  {
   "cell_type": "code",
   "execution_count": 10,
   "id": "e2f960a0",
   "metadata": {},
   "outputs": [
    {
     "data": {
      "text/plain": [
       "12.0"
      ]
     },
     "execution_count": 10,
     "metadata": {},
     "output_type": "execute_result"
    }
   ],
   "source": [
    "# standard error by hand\n",
    "(np.std(rand5_10) / np.sqrt(10)).round()"
   ]
  },
  {
   "cell_type": "code",
   "execution_count": 11,
   "id": "72cdb06c",
   "metadata": {},
   "outputs": [
    {
     "data": {
      "text/plain": [
       "12.0"
      ]
     },
     "execution_count": 11,
     "metadata": {},
     "output_type": "execute_result"
    }
   ],
   "source": [
    "rand5_10_sem = rand5_10.sem()\n",
    "rand5_10_sem.round()"
   ]
  },
  {
   "cell_type": "code",
   "execution_count": 12,
   "id": "869ee257",
   "metadata": {},
   "outputs": [
    {
     "data": {
      "text/plain": [
       "392.7715"
      ]
     },
     "execution_count": 12,
     "metadata": {},
     "output_type": "execute_result"
    }
   ],
   "source": [
    "rand5_10_mean = rand5_10.mean()\n",
    "rand5_10_mean"
   ]
  },
  {
   "cell_type": "markdown",
   "id": "0e0fcba7",
   "metadata": {},
   "source": [
    "## 5. USPS increases the size of its random sample to 50 employees."
   ]
  },
  {
   "cell_type": "code",
   "execution_count": 13,
   "id": "192a096e",
   "metadata": {},
   "outputs": [],
   "source": [
    "# locate 50 sample\n",
    "rand5_50 = rand5.loc[rand5['random5_50'] == 1, 'prod']"
   ]
  },
  {
   "cell_type": "code",
   "execution_count": 14,
   "id": "d54db0f8",
   "metadata": {},
   "outputs": [
    {
     "data": {
      "text/plain": [
       "370.75778"
      ]
     },
     "execution_count": 14,
     "metadata": {},
     "output_type": "execute_result"
    }
   ],
   "source": [
    "# mean 50 sample\n",
    "rand5_50_mean = rand5_50.mean()\n",
    "rand5_50_mean"
   ]
  },
  {
   "cell_type": "code",
   "execution_count": 15,
   "id": "d38a2d33",
   "metadata": {},
   "outputs": [
    {
     "data": {
      "text/plain": [
       "7.861652256584589"
      ]
     },
     "execution_count": 15,
     "metadata": {},
     "output_type": "execute_result"
    }
   ],
   "source": [
    "# standard error\n",
    "rand5_50_sem = rand5_50.sem()\n",
    "rand5_50_sem "
   ]
  },
  {
   "cell_type": "markdown",
   "id": "b6754259",
   "metadata": {},
   "source": [
    "The random error for the greater sample size is closer to the mean as expected."
   ]
  },
  {
   "cell_type": "markdown",
   "id": "44e79db2",
   "metadata": {},
   "source": [
    "## 6. USPS increases the size of its random sample to 100 employees."
   ]
  },
  {
   "cell_type": "code",
   "execution_count": 16,
   "id": "788b8b8f",
   "metadata": {},
   "outputs": [],
   "source": [
    "# locate 100 sample\n",
    "rand5_100 = rand5.loc[rand5['random5_100'] == 1, 'prod']"
   ]
  },
  {
   "cell_type": "code",
   "execution_count": 17,
   "id": "5d6bcb02",
   "metadata": {},
   "outputs": [
    {
     "data": {
      "text/plain": [
       "377.6203"
      ]
     },
     "execution_count": 17,
     "metadata": {},
     "output_type": "execute_result"
    }
   ],
   "source": [
    "# mean, sem 100 sample\n",
    "rand5_100_mean = rand5_100.mean()\n",
    "rand5_100_sem = rand5_100.sem()\n",
    "rand5_100_mean"
   ]
  },
  {
   "cell_type": "code",
   "execution_count": 18,
   "id": "5bdf18c5",
   "metadata": {},
   "outputs": [
    {
     "name": "stdout",
     "output_type": "stream",
     "text": [
      "Confidence Interval (95%): (375.6553860046028, 379.5852145813347)\n"
     ]
    }
   ],
   "source": [
    "# confidence interval 100 sample\n",
    "confidence_level = 0.95\n",
    "margin_of_error = stats.t.ppf((1 + confidence_level) / 2, (100 - 1) * rand5_100_sem)\n",
    "confidence_interval = (rand5_100_mean - margin_of_error, rand5_100_mean + margin_of_error)\n",
    "print(\"Confidence Interval (95%):\", confidence_interval)"
   ]
  },
  {
   "cell_type": "markdown",
   "id": "97e506ef",
   "metadata": {},
   "source": [
    "Interpretation: We can be 95% confident that the true average productivity level (`prod`) of the workers is between 375.66 and 379.59 units based on our sample data with sample size 100."
   ]
  },
  {
   "cell_type": "markdown",
   "id": "cddde66a",
   "metadata": {},
   "source": [
    "## 7. USPS increases the size of its random sample to 1000 employees."
   ]
  },
  {
   "cell_type": "code",
   "execution_count": 19,
   "id": "9bf4deb9",
   "metadata": {},
   "outputs": [],
   "source": [
    "# locate 1000 sample\n",
    "rand5_1000 = rand5.loc[rand5['random5_1000'] == 1, 'prod']"
   ]
  },
  {
   "cell_type": "code",
   "execution_count": 20,
   "id": "47ed49a0",
   "metadata": {},
   "outputs": [
    {
     "data": {
      "text/plain": [
       "372.27698"
      ]
     },
     "execution_count": 20,
     "metadata": {},
     "output_type": "execute_result"
    }
   ],
   "source": [
    "# mean, sem 1000 sample\n",
    "rand5_1000_mean = rand5_1000.mean()\n",
    "rand5_1000_sem = rand5_1000.sem()\n",
    "rand5_1000_mean"
   ]
  },
  {
   "cell_type": "code",
   "execution_count": 21,
   "id": "327c2a27",
   "metadata": {},
   "outputs": [
    {
     "name": "stdout",
     "output_type": "stream",
     "text": [
      "Confidence Interval (95%): (375.64371308690426, 374.253564745127)\n"
     ]
    }
   ],
   "source": [
    "# confidence interval 1000 sample\n",
    "confidence_level = 0.95\n",
    "margin_of_error = stats.t.ppf((1 + confidence_level) / 2, (100 - 1) * rand5_1000_sem)\n",
    "confidence_interval = (rand5_100_mean - margin_of_error, rand5_1000_mean + margin_of_error)\n",
    "print(\"Confidence Interval (95%):\", confidence_interval)"
   ]
  },
  {
   "cell_type": "markdown",
   "id": "93d68f6f",
   "metadata": {},
   "source": [
    "As expected, the confidence interval for the larger sample size of 1000 is more narrow than the sample size of 100 meaning the estimate becomes more precise and closer to the true mean."
   ]
  },
  {
   "cell_type": "markdown",
   "id": "ddf3ff1b",
   "metadata": {},
   "source": [
    "---"
   ]
  },
  {
   "cell_type": "markdown",
   "id": "19be71c2",
   "metadata": {},
   "source": [
    "In summary, this lab focuses on Consistency and Unbiasedness: \n",
    "- `Consistency` focuses on how well an estimate converges to the true value as the sample size increases.\n",
    "- `Unbiasedness` is a property that holds irrespective of sample size (Finite Sample Property), ensuring that, on average, the estimate is accurate."
   ]
  }
 ],
 "metadata": {
  "kernelspec": {
   "display_name": "Python 3 (ipykernel)",
   "language": "python",
   "name": "python3"
  },
  "language_info": {
   "codemirror_mode": {
    "name": "ipython",
    "version": 3
   },
   "file_extension": ".py",
   "mimetype": "text/x-python",
   "name": "python",
   "nbconvert_exporter": "python",
   "pygments_lexer": "ipython3",
   "version": "3.10.9"
  }
 },
 "nbformat": 4,
 "nbformat_minor": 5
}
